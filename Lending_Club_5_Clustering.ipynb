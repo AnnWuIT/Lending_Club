{
 "cells": [
  {
   "cell_type": "code",
   "execution_count": 1,
   "metadata": {},
   "outputs": [],
   "source": [
    "import pandas as pd\n",
    "import numpy as np\n",
    "from matplotlib import pyplot as plt\n",
    "import seaborn as sns\n",
    "#importing the PCA scaling library\n",
    "from sklearn.decomposition import PCA\n",
    "from sklearn.linear_model import LinearRegression, Ridge, Lasso\n",
    "# Import KNN Regressor machine learning library\n",
    "from sklearn.neighbors import KNeighborsRegressor\n",
    "from sklearn import metrics\n",
    "#Import the Voting regressor for Ensemble\n",
    "from sklearn.ensemble import VotingRegressor\n",
    "# Import stats from scipy\n",
    "from scipy import stats\n",
    "# Import zscore for scaling\n",
    "from scipy.stats import zscore\n",
    "#importing the metrics\n",
    "from sklearn.metrics import mean_squared_error,mean_absolute_error,r2_score\n",
    "#importing the K fold\n",
    "from sklearn.model_selection import KFold\n",
    "#importing the cross validation score\n",
    "from sklearn.model_selection import cross_val_score\n",
    "#importing the preprocessing library\n",
    "from sklearn import preprocessing\n",
    "# importing the Polynomial features\n",
    "from sklearn.preprocessing import PolynomialFeatures\n",
    "#importing kmeans clustering library\n",
    "from sklearn.cluster import KMeans\n",
    "from sklearn.utils import resample\n",
    "from sklearn.datasets import make_classification\n",
    "from numpy import where\n"
   ]
  },
  {
   "cell_type": "code",
   "execution_count": 2,
   "metadata": {},
   "outputs": [
    {
     "data": {
      "text/html": [
       "<div>\n",
       "<style scoped>\n",
       "    .dataframe tbody tr th:only-of-type {\n",
       "        vertical-align: middle;\n",
       "    }\n",
       "\n",
       "    .dataframe tbody tr th {\n",
       "        vertical-align: top;\n",
       "    }\n",
       "\n",
       "    .dataframe thead th {\n",
       "        text-align: right;\n",
       "    }\n",
       "</style>\n",
       "<table border=\"1\" class=\"dataframe\">\n",
       "  <thead>\n",
       "    <tr style=\"text-align: right;\">\n",
       "      <th></th>\n",
       "      <th>Unnamed: 0</th>\n",
       "      <th>loan_amnt</th>\n",
       "      <th>funded_amnt</th>\n",
       "      <th>term</th>\n",
       "      <th>int_rate</th>\n",
       "      <th>installment</th>\n",
       "      <th>grade</th>\n",
       "      <th>sub_grade</th>\n",
       "      <th>emp_length</th>\n",
       "      <th>annual_inc</th>\n",
       "      <th>...</th>\n",
       "      <th>purpose_moving</th>\n",
       "      <th>purpose_other</th>\n",
       "      <th>purpose_renewable_energy</th>\n",
       "      <th>purpose_small_business</th>\n",
       "      <th>purpose_vacation</th>\n",
       "      <th>purpose_wedding</th>\n",
       "      <th>FICO_group_Exeptional</th>\n",
       "      <th>FICO_group_Fair</th>\n",
       "      <th>FICO_group_Good</th>\n",
       "      <th>FICO_group_Very Good</th>\n",
       "    </tr>\n",
       "  </thead>\n",
       "  <tbody>\n",
       "    <tr>\n",
       "      <th>0</th>\n",
       "      <td>0</td>\n",
       "      <td>5000.0</td>\n",
       "      <td>5000.0</td>\n",
       "      <td>0</td>\n",
       "      <td>10.65</td>\n",
       "      <td>162.87</td>\n",
       "      <td>2</td>\n",
       "      <td>6</td>\n",
       "      <td>10</td>\n",
       "      <td>24000.0</td>\n",
       "      <td>...</td>\n",
       "      <td>0</td>\n",
       "      <td>0</td>\n",
       "      <td>0</td>\n",
       "      <td>0</td>\n",
       "      <td>0</td>\n",
       "      <td>0</td>\n",
       "      <td>0</td>\n",
       "      <td>0</td>\n",
       "      <td>1</td>\n",
       "      <td>0</td>\n",
       "    </tr>\n",
       "    <tr>\n",
       "      <th>1</th>\n",
       "      <td>1</td>\n",
       "      <td>2500.0</td>\n",
       "      <td>2500.0</td>\n",
       "      <td>1</td>\n",
       "      <td>15.27</td>\n",
       "      <td>59.83</td>\n",
       "      <td>3</td>\n",
       "      <td>13</td>\n",
       "      <td>0</td>\n",
       "      <td>30000.0</td>\n",
       "      <td>...</td>\n",
       "      <td>0</td>\n",
       "      <td>0</td>\n",
       "      <td>0</td>\n",
       "      <td>0</td>\n",
       "      <td>0</td>\n",
       "      <td>0</td>\n",
       "      <td>0</td>\n",
       "      <td>0</td>\n",
       "      <td>0</td>\n",
       "      <td>1</td>\n",
       "    </tr>\n",
       "    <tr>\n",
       "      <th>2</th>\n",
       "      <td>2</td>\n",
       "      <td>2400.0</td>\n",
       "      <td>2400.0</td>\n",
       "      <td>0</td>\n",
       "      <td>15.96</td>\n",
       "      <td>84.33</td>\n",
       "      <td>3</td>\n",
       "      <td>14</td>\n",
       "      <td>10</td>\n",
       "      <td>12252.0</td>\n",
       "      <td>...</td>\n",
       "      <td>0</td>\n",
       "      <td>0</td>\n",
       "      <td>0</td>\n",
       "      <td>1</td>\n",
       "      <td>0</td>\n",
       "      <td>0</td>\n",
       "      <td>0</td>\n",
       "      <td>0</td>\n",
       "      <td>1</td>\n",
       "      <td>0</td>\n",
       "    </tr>\n",
       "    <tr>\n",
       "      <th>3</th>\n",
       "      <td>3</td>\n",
       "      <td>10000.0</td>\n",
       "      <td>10000.0</td>\n",
       "      <td>0</td>\n",
       "      <td>13.49</td>\n",
       "      <td>339.31</td>\n",
       "      <td>3</td>\n",
       "      <td>10</td>\n",
       "      <td>10</td>\n",
       "      <td>49200.0</td>\n",
       "      <td>...</td>\n",
       "      <td>0</td>\n",
       "      <td>1</td>\n",
       "      <td>0</td>\n",
       "      <td>0</td>\n",
       "      <td>0</td>\n",
       "      <td>0</td>\n",
       "      <td>0</td>\n",
       "      <td>0</td>\n",
       "      <td>1</td>\n",
       "      <td>0</td>\n",
       "    </tr>\n",
       "    <tr>\n",
       "      <th>4</th>\n",
       "      <td>4</td>\n",
       "      <td>3000.0</td>\n",
       "      <td>3000.0</td>\n",
       "      <td>1</td>\n",
       "      <td>12.69</td>\n",
       "      <td>67.79</td>\n",
       "      <td>2</td>\n",
       "      <td>9</td>\n",
       "      <td>1</td>\n",
       "      <td>80000.0</td>\n",
       "      <td>...</td>\n",
       "      <td>0</td>\n",
       "      <td>1</td>\n",
       "      <td>0</td>\n",
       "      <td>0</td>\n",
       "      <td>0</td>\n",
       "      <td>0</td>\n",
       "      <td>0</td>\n",
       "      <td>0</td>\n",
       "      <td>1</td>\n",
       "      <td>0</td>\n",
       "    </tr>\n",
       "  </tbody>\n",
       "</table>\n",
       "<p>5 rows × 65 columns</p>\n",
       "</div>"
      ],
      "text/plain": [
       "   Unnamed: 0  loan_amnt  funded_amnt  term  int_rate  installment  grade  \\\n",
       "0           0     5000.0       5000.0     0     10.65       162.87      2   \n",
       "1           1     2500.0       2500.0     1     15.27        59.83      3   \n",
       "2           2     2400.0       2400.0     0     15.96        84.33      3   \n",
       "3           3    10000.0      10000.0     0     13.49       339.31      3   \n",
       "4           4     3000.0       3000.0     1     12.69        67.79      2   \n",
       "\n",
       "   sub_grade  emp_length  annual_inc  ...  purpose_moving  purpose_other  \\\n",
       "0          6          10     24000.0  ...               0              0   \n",
       "1         13           0     30000.0  ...               0              0   \n",
       "2         14          10     12252.0  ...               0              0   \n",
       "3         10          10     49200.0  ...               0              1   \n",
       "4          9           1     80000.0  ...               0              1   \n",
       "\n",
       "   purpose_renewable_energy  purpose_small_business  purpose_vacation  \\\n",
       "0                         0                       0                 0   \n",
       "1                         0                       0                 0   \n",
       "2                         0                       1                 0   \n",
       "3                         0                       0                 0   \n",
       "4                         0                       0                 0   \n",
       "\n",
       "   purpose_wedding  FICO_group_Exeptional  FICO_group_Fair  FICO_group_Good  \\\n",
       "0                0                      0                0                1   \n",
       "1                0                      0                0                0   \n",
       "2                0                      0                0                1   \n",
       "3                0                      0                0                1   \n",
       "4                0                      0                0                1   \n",
       "\n",
       "   FICO_group_Very Good  \n",
       "0                     0  \n",
       "1                     1  \n",
       "2                     0  \n",
       "3                     0  \n",
       "4                     0  \n",
       "\n",
       "[5 rows x 65 columns]"
      ]
     },
     "execution_count": 2,
     "metadata": {},
     "output_type": "execute_result"
    }
   ],
   "source": [
    "dummies_loan_status = pd.read_csv('dummies_loan_status.csv')\n",
    "pd.set_option('display.max_colwidth', None)\n",
    "pd.set_option('display.max_row', None)\n",
    "dummies_loan_status.head()"
   ]
  },
  {
   "cell_type": "code",
   "execution_count": 3,
   "metadata": {},
   "outputs": [],
   "source": [
    "dummies_loan_status.drop('Unnamed: 0', axis = 1, inplace = True)"
   ]
  },
  {
   "cell_type": "code",
   "execution_count": 4,
   "metadata": {},
   "outputs": [
    {
     "data": {
      "text/plain": [
       "(42535, 64)"
      ]
     },
     "execution_count": 4,
     "metadata": {},
     "output_type": "execute_result"
    }
   ],
   "source": [
    "dummies_loan_status.shape"
   ]
  },
  {
   "cell_type": "code",
   "execution_count": 5,
   "metadata": {},
   "outputs": [
    {
     "data": {
      "text/plain": [
       "Index(['loan_amnt', 'funded_amnt', 'term', 'int_rate', 'installment', 'grade',\n",
       "       'sub_grade', 'emp_length', 'annual_inc', 'issue_d', 'dti',\n",
       "       'delinq_2yrs', 'earliest_cr_line', 'inq_last_6mths', 'open_acc',\n",
       "       'pub_rec', 'revol_bal', 'revol_util', 'total_acc', 'total_pymnt',\n",
       "       'total_rec_prncp', 'total_rec_int', 'total_rec_late_fee', 'recoveries',\n",
       "       'collection_recovery_fee', 'last_pymnt_amnt', 'last_credit_pull_d',\n",
       "       'acc_now_delinq', 'delinq_amnt', 'pub_rec_bankruptcies', 'tax_liens',\n",
       "       'loan_status', 'policy_code', 'FICO_mean', 'is_amnt_outlier',\n",
       "       'amount_bins', 'is_income_outlier', 'credit_history',\n",
       "       'home_ownership_MORTGAGE', 'home_ownership_NONE',\n",
       "       'home_ownership_OTHER', 'home_ownership_OWN', 'home_ownership_RENT',\n",
       "       'verification_status_Not Verified',\n",
       "       'verification_status_Source Verified', 'verification_status_Verified',\n",
       "       'purpose_car', 'purpose_credit_card', 'purpose_debt_consolidation',\n",
       "       'purpose_educational', 'purpose_home_improvement', 'purpose_house',\n",
       "       'purpose_major_purchase', 'purpose_medical', 'purpose_moving',\n",
       "       'purpose_other', 'purpose_renewable_energy', 'purpose_small_business',\n",
       "       'purpose_vacation', 'purpose_wedding', 'FICO_group_Exeptional',\n",
       "       'FICO_group_Fair', 'FICO_group_Good', 'FICO_group_Very Good'],\n",
       "      dtype='object')"
      ]
     },
     "execution_count": 5,
     "metadata": {},
     "output_type": "execute_result"
    }
   ],
   "source": [
    "dummies_loan_status.columns"
   ]
  },
  {
   "cell_type": "code",
   "execution_count": 6,
   "metadata": {},
   "outputs": [
    {
     "name": "stdout",
     "output_type": "stream",
     "text": [
      "[[0.82173051 0.81456887 0.59064503 ... 0.31744888 0.72629776 0.56059695]\n",
      " [1.15907367 1.16437427 1.69306429 ... 0.31744888 1.37684577 1.78381277]\n",
      " [1.1725674  1.17836649 0.59064503 ... 0.31744888 0.72629776 0.56059695]\n",
      " ...\n",
      " [1.15570024 1.16087622 0.59064503 ... 0.31744888 0.72629776 0.56059695]\n",
      " [0.61932461 0.60468562 0.59064503 ... 0.31744888 1.37684577 1.78381277]\n",
      " [0.82173051 0.81456887 0.59064503 ... 0.31744888 1.37684577 1.78381277]]\n",
      "\n",
      "\n",
      "*******************************************************************************\n",
      "\n",
      "\n",
      "Below are the outliers - the index numbers and the corresponding column indices in the second vector\n",
      "\n",
      "\n",
      "(array([    1,     2,     5, ..., 42533, 42534, 42534], dtype=int64), array([46, 57, 59, ..., 39,  9, 32], dtype=int64))\n"
     ]
    }
   ],
   "source": [
    "from scipy import stats\n",
    "\n",
    "z = np.abs(stats.zscore(dummies_loan_status[dummies_loan_status.columns]))\n",
    "print(z)\n",
    "\n",
    "print(\"\\n\")\n",
    "print(\"*******************************************************************************\")\n",
    "print(\"\\n\")\n",
    "\n",
    "# threshold = 3  # selecting 3 as the threshold to identify outliers\n",
    "print('Below are the outliers - the index numbers and the corresponding column indices in the second vector')\n",
    "print(\"\\n\")\n",
    "print(np.where(z > 3))"
   ]
  },
  {
   "cell_type": "code",
   "execution_count": 7,
   "metadata": {},
   "outputs": [],
   "source": [
    "dummies_loan_status_outliers_removed = dummies_loan_status[(z<3).all(axis=1)]"
   ]
  },
  {
   "cell_type": "code",
   "execution_count": 8,
   "metadata": {},
   "outputs": [],
   "source": [
    "# define dataset\n",
    "X = dummies_loan_status.drop('loan_status', axis = 1)\n",
    "y = dummies_loan_status.loan_status"
   ]
  },
  {
   "cell_type": "code",
   "execution_count": 9,
   "metadata": {},
   "outputs": [
    {
     "data": {
      "text/plain": [
       "((42535, 63), (42535,))"
      ]
     },
     "execution_count": 9,
     "metadata": {},
     "output_type": "execute_result"
    }
   ],
   "source": [
    "X.shape, y.shape"
   ]
  },
  {
   "cell_type": "code",
   "execution_count": 10,
   "metadata": {},
   "outputs": [],
   "source": [
    "from sklearn.preprocessing import StandardScaler\n",
    "scaler = StandardScaler()\n",
    "X_scaled = scaler.fit_transform(X)"
   ]
  },
  {
   "cell_type": "code",
   "execution_count": 11,
   "metadata": {},
   "outputs": [],
   "source": [
    "X_scaled_df = pd.DataFrame(X_scaled,columns=X.columns)"
   ]
  },
  {
   "cell_type": "code",
   "execution_count": 12,
   "metadata": {},
   "outputs": [
    {
     "data": {
      "text/html": [
       "<div>\n",
       "<style scoped>\n",
       "    .dataframe tbody tr th:only-of-type {\n",
       "        vertical-align: middle;\n",
       "    }\n",
       "\n",
       "    .dataframe tbody tr th {\n",
       "        vertical-align: top;\n",
       "    }\n",
       "\n",
       "    .dataframe thead th {\n",
       "        text-align: right;\n",
       "    }\n",
       "</style>\n",
       "<table border=\"1\" class=\"dataframe\">\n",
       "  <thead>\n",
       "    <tr style=\"text-align: right;\">\n",
       "      <th></th>\n",
       "      <th>loan_amnt</th>\n",
       "      <th>funded_amnt</th>\n",
       "      <th>term</th>\n",
       "      <th>int_rate</th>\n",
       "      <th>installment</th>\n",
       "      <th>grade</th>\n",
       "      <th>sub_grade</th>\n",
       "      <th>emp_length</th>\n",
       "      <th>annual_inc</th>\n",
       "      <th>issue_d</th>\n",
       "      <th>...</th>\n",
       "      <th>purpose_moving</th>\n",
       "      <th>purpose_other</th>\n",
       "      <th>purpose_renewable_energy</th>\n",
       "      <th>purpose_small_business</th>\n",
       "      <th>purpose_vacation</th>\n",
       "      <th>purpose_wedding</th>\n",
       "      <th>FICO_group_Exeptional</th>\n",
       "      <th>FICO_group_Fair</th>\n",
       "      <th>FICO_group_Good</th>\n",
       "      <th>FICO_group_Very Good</th>\n",
       "    </tr>\n",
       "  </thead>\n",
       "  <tbody>\n",
       "    <tr>\n",
       "      <th>0</th>\n",
       "      <td>-0.821731</td>\n",
       "      <td>-0.814569</td>\n",
       "      <td>-0.590645</td>\n",
       "      <td>-0.408592</td>\n",
       "      <td>-0.764644</td>\n",
       "      <td>-0.466389</td>\n",
       "      <td>-0.622967</td>\n",
       "      <td>1.442745</td>\n",
       "      <td>-0.704100</td>\n",
       "      <td>0.795288</td>\n",
       "      <td>...</td>\n",
       "      <td>-0.122514</td>\n",
       "      <td>-0.340751</td>\n",
       "      <td>-0.049983</td>\n",
       "      <td>-0.22166</td>\n",
       "      <td>-0.097434</td>\n",
       "      <td>-0.155482</td>\n",
       "      <td>-0.122019</td>\n",
       "      <td>-0.317449</td>\n",
       "      <td>0.726298</td>\n",
       "      <td>-0.560597</td>\n",
       "    </tr>\n",
       "    <tr>\n",
       "      <th>1</th>\n",
       "      <td>-1.159074</td>\n",
       "      <td>-1.164374</td>\n",
       "      <td>1.693064</td>\n",
       "      <td>0.837399</td>\n",
       "      <td>-1.257836</td>\n",
       "      <td>0.228822</td>\n",
       "      <td>0.366964</td>\n",
       "      <td>-1.328770</td>\n",
       "      <td>-0.610491</td>\n",
       "      <td>0.795288</td>\n",
       "      <td>...</td>\n",
       "      <td>-0.122514</td>\n",
       "      <td>-0.340751</td>\n",
       "      <td>-0.049983</td>\n",
       "      <td>-0.22166</td>\n",
       "      <td>-0.097434</td>\n",
       "      <td>-0.155482</td>\n",
       "      <td>-0.122019</td>\n",
       "      <td>-0.317449</td>\n",
       "      <td>-1.376846</td>\n",
       "      <td>1.783813</td>\n",
       "    </tr>\n",
       "    <tr>\n",
       "      <th>2</th>\n",
       "      <td>-1.172567</td>\n",
       "      <td>-1.178366</td>\n",
       "      <td>-0.590645</td>\n",
       "      <td>1.023488</td>\n",
       "      <td>-1.140569</td>\n",
       "      <td>0.228822</td>\n",
       "      <td>0.508382</td>\n",
       "      <td>1.442745</td>\n",
       "      <td>-0.887387</td>\n",
       "      <td>0.795288</td>\n",
       "      <td>...</td>\n",
       "      <td>-0.122514</td>\n",
       "      <td>-0.340751</td>\n",
       "      <td>-0.049983</td>\n",
       "      <td>4.51142</td>\n",
       "      <td>-0.097434</td>\n",
       "      <td>-0.155482</td>\n",
       "      <td>-0.122019</td>\n",
       "      <td>-0.317449</td>\n",
       "      <td>0.726298</td>\n",
       "      <td>-0.560597</td>\n",
       "    </tr>\n",
       "    <tr>\n",
       "      <th>3</th>\n",
       "      <td>-0.147044</td>\n",
       "      <td>-0.114958</td>\n",
       "      <td>-0.590645</td>\n",
       "      <td>0.357342</td>\n",
       "      <td>0.079871</td>\n",
       "      <td>0.228822</td>\n",
       "      <td>-0.057292</td>\n",
       "      <td>1.442745</td>\n",
       "      <td>-0.310940</td>\n",
       "      <td>0.795288</td>\n",
       "      <td>...</td>\n",
       "      <td>-0.122514</td>\n",
       "      <td>2.934694</td>\n",
       "      <td>-0.049983</td>\n",
       "      <td>-0.22166</td>\n",
       "      <td>-0.097434</td>\n",
       "      <td>-0.155482</td>\n",
       "      <td>-0.122019</td>\n",
       "      <td>-0.317449</td>\n",
       "      <td>0.726298</td>\n",
       "      <td>-0.560597</td>\n",
       "    </tr>\n",
       "    <tr>\n",
       "      <th>4</th>\n",
       "      <td>-1.091605</td>\n",
       "      <td>-1.094413</td>\n",
       "      <td>1.693064</td>\n",
       "      <td>0.141586</td>\n",
       "      <td>-1.219736</td>\n",
       "      <td>-0.466389</td>\n",
       "      <td>-0.198711</td>\n",
       "      <td>-1.051618</td>\n",
       "      <td>0.169588</td>\n",
       "      <td>0.795288</td>\n",
       "      <td>...</td>\n",
       "      <td>-0.122514</td>\n",
       "      <td>2.934694</td>\n",
       "      <td>-0.049983</td>\n",
       "      <td>-0.22166</td>\n",
       "      <td>-0.097434</td>\n",
       "      <td>-0.155482</td>\n",
       "      <td>-0.122019</td>\n",
       "      <td>-0.317449</td>\n",
       "      <td>0.726298</td>\n",
       "      <td>-0.560597</td>\n",
       "    </tr>\n",
       "  </tbody>\n",
       "</table>\n",
       "<p>5 rows × 63 columns</p>\n",
       "</div>"
      ],
      "text/plain": [
       "   loan_amnt  funded_amnt      term  int_rate  installment     grade  \\\n",
       "0  -0.821731    -0.814569 -0.590645 -0.408592    -0.764644 -0.466389   \n",
       "1  -1.159074    -1.164374  1.693064  0.837399    -1.257836  0.228822   \n",
       "2  -1.172567    -1.178366 -0.590645  1.023488    -1.140569  0.228822   \n",
       "3  -0.147044    -0.114958 -0.590645  0.357342     0.079871  0.228822   \n",
       "4  -1.091605    -1.094413  1.693064  0.141586    -1.219736 -0.466389   \n",
       "\n",
       "   sub_grade  emp_length  annual_inc   issue_d  ...  purpose_moving  \\\n",
       "0  -0.622967    1.442745   -0.704100  0.795288  ...       -0.122514   \n",
       "1   0.366964   -1.328770   -0.610491  0.795288  ...       -0.122514   \n",
       "2   0.508382    1.442745   -0.887387  0.795288  ...       -0.122514   \n",
       "3  -0.057292    1.442745   -0.310940  0.795288  ...       -0.122514   \n",
       "4  -0.198711   -1.051618    0.169588  0.795288  ...       -0.122514   \n",
       "\n",
       "   purpose_other  purpose_renewable_energy  purpose_small_business  \\\n",
       "0      -0.340751                 -0.049983                -0.22166   \n",
       "1      -0.340751                 -0.049983                -0.22166   \n",
       "2      -0.340751                 -0.049983                 4.51142   \n",
       "3       2.934694                 -0.049983                -0.22166   \n",
       "4       2.934694                 -0.049983                -0.22166   \n",
       "\n",
       "   purpose_vacation  purpose_wedding  FICO_group_Exeptional  FICO_group_Fair  \\\n",
       "0         -0.097434        -0.155482              -0.122019        -0.317449   \n",
       "1         -0.097434        -0.155482              -0.122019        -0.317449   \n",
       "2         -0.097434        -0.155482              -0.122019        -0.317449   \n",
       "3         -0.097434        -0.155482              -0.122019        -0.317449   \n",
       "4         -0.097434        -0.155482              -0.122019        -0.317449   \n",
       "\n",
       "   FICO_group_Good  FICO_group_Very Good  \n",
       "0         0.726298             -0.560597  \n",
       "1        -1.376846              1.783813  \n",
       "2         0.726298             -0.560597  \n",
       "3         0.726298             -0.560597  \n",
       "4         0.726298             -0.560597  \n",
       "\n",
       "[5 rows x 63 columns]"
      ]
     },
     "execution_count": 12,
     "metadata": {},
     "output_type": "execute_result"
    }
   ],
   "source": [
    "X_scaled_df.head()"
   ]
  },
  {
   "cell_type": "code",
   "execution_count": 13,
   "metadata": {},
   "outputs": [
    {
     "data": {
      "image/png": "[encoded data removed]",
      "text/plain": [
       "<Figure size 504x360 with 1 Axes>"
      ]
     },
     "metadata": {
      "needs_background": "light"
     },
     "output_type": "display_data"
    }
   ],
   "source": [
    "pca = PCA().fit(X_scaled)\n",
    "plt.plot(np.cumsum(pca.explained_variance_ratio_))\n",
    "plt.vlines(x=40, ymax=1, ymin=0, colors=\"r\", linestyles=\"--\")\n",
    "plt.hlines(y=0.95, xmax=60, xmin=0, colors=\"g\", linestyles=\"--\")\n",
    "plt.xlabel('number of components')\n",
    "plt.ylabel('cumulative explained variance')\n",
    "plt.gcf().set_size_inches(7, 5)"
   ]
  },
  {
   "cell_type": "code",
   "execution_count": 14,
   "metadata": {},
   "outputs": [
    {
     "data": {
      "text/html": [
       "<div>\n",
       "<style scoped>\n",
       "    .dataframe tbody tr th:only-of-type {\n",
       "        vertical-align: middle;\n",
       "    }\n",
       "\n",
       "    .dataframe tbody tr th {\n",
       "        vertical-align: top;\n",
       "    }\n",
       "\n",
       "    .dataframe thead th {\n",
       "        text-align: right;\n",
       "    }\n",
       "</style>\n",
       "<table border=\"1\" class=\"dataframe\">\n",
       "  <thead>\n",
       "    <tr style=\"text-align: right;\">\n",
       "      <th></th>\n",
       "      <th>PC1</th>\n",
       "      <th>PC2</th>\n",
       "    </tr>\n",
       "  </thead>\n",
       "  <tbody>\n",
       "    <tr>\n",
       "      <th>0</th>\n",
       "      <td>0.326289</td>\n",
       "      <td>-0.060733</td>\n",
       "    </tr>\n",
       "    <tr>\n",
       "      <th>1</th>\n",
       "      <td>0.328712</td>\n",
       "      <td>-0.059565</td>\n",
       "    </tr>\n",
       "    <tr>\n",
       "      <th>2</th>\n",
       "      <td>0.155233</td>\n",
       "      <td>0.063825</td>\n",
       "    </tr>\n",
       "    <tr>\n",
       "      <th>3</th>\n",
       "      <td>0.163116</td>\n",
       "      <td>0.347915</td>\n",
       "    </tr>\n",
       "    <tr>\n",
       "      <th>4</th>\n",
       "      <td>0.308193</td>\n",
       "      <td>-0.047592</td>\n",
       "    </tr>\n",
       "  </tbody>\n",
       "</table>\n",
       "</div>"
      ],
      "text/plain": [
       "        PC1       PC2\n",
       "0  0.326289 -0.060733\n",
       "1  0.328712 -0.059565\n",
       "2  0.155233  0.063825\n",
       "3  0.163116  0.347915\n",
       "4  0.308193 -0.047592"
      ]
     },
     "execution_count": 14,
     "metadata": {},
     "output_type": "execute_result"
    }
   ],
   "source": [
    "from sklearn.decomposition import IncrementalPCA\n",
    "pca_final = IncrementalPCA(n_components = 40)\n",
    "X_pca_final = pca_final.fit_transform(X_scaled)\n",
    "loans_pca = pd.DataFrame({'PC1':pca.components_[0],'PC2':pca.components_[1]})\n",
    "loans_pca.head()"
   ]
  },
  {
   "cell_type": "code",
   "execution_count": 15,
   "metadata": {},
   "outputs": [
    {
     "data": {
      "text/plain": [
       "(42535, 40)"
      ]
     },
     "execution_count": 15,
     "metadata": {},
     "output_type": "execute_result"
    }
   ],
   "source": [
    "X_pca_final.shape"
   ]
  },
  {
   "cell_type": "code",
   "execution_count": 16,
   "metadata": {},
   "outputs": [
    {
     "data": {
      "text/plain": [
       "(63, 2)"
      ]
     },
     "execution_count": 16,
     "metadata": {},
     "output_type": "execute_result"
    }
   ],
   "source": [
    "loans_pca.shape"
   ]
  },
  {
   "cell_type": "code",
   "execution_count": 17,
   "metadata": {},
   "outputs": [
    {
     "name": "stdout",
     "output_type": "stream",
     "text": [
      "(42535, 63)\n",
      "(42535, 40)\n"
     ]
    }
   ],
   "source": [
    "print(X.shape)\n",
    "print(X_pca_final.shape)"
   ]
  },
  {
   "cell_type": "code",
   "execution_count": 18,
   "metadata": {},
   "outputs": [],
   "source": [
    "corrmat = np.corrcoef(X_pca_final.transpose())"
   ]
  },
  {
   "cell_type": "code",
   "execution_count": 19,
   "metadata": {},
   "outputs": [
    {
     "data": {
      "text/plain": [
       "(40, 40)"
      ]
     },
     "execution_count": 19,
     "metadata": {},
     "output_type": "execute_result"
    }
   ],
   "source": [
    "corrmat.shape"
   ]
  },
  {
   "cell_type": "code",
   "execution_count": 20,
   "metadata": {},
   "outputs": [],
   "source": [
    "## Clustering\n",
    "from sklearn.cluster import KMeans\n",
    "from sklearn.metrics import silhouette_score\n",
    "\n",
    "from scipy.cluster.hierarchy import linkage\n",
    "from scipy.cluster.hierarchy import dendrogram\n",
    "from scipy.cluster.hierarchy import cut_tree"
   ]
  },
  {
   "cell_type": "code",
   "execution_count": 21,
   "metadata": {},
   "outputs": [
    {
     "data": {
      "text/plain": [
       "KMeans(algorithm='auto', copy_x=True, init='k-means++', max_iter=1000,\n",
       "       n_clusters=5, n_init=10, n_jobs=None, precompute_distances='auto',\n",
       "       random_state=None, tol=0.0001, verbose=0)"
      ]
     },
     "execution_count": 21,
     "metadata": {},
     "output_type": "execute_result"
    }
   ],
   "source": [
    "kmeans = KMeans(n_clusters=5, max_iter=1000)\n",
    "kmeans.fit(X_pca_final)"
   ]
  },
  {
   "cell_type": "code",
   "execution_count": 22,
   "metadata": {},
   "outputs": [
    {
     "data": {
      "text/plain": [
       "[<matplotlib.lines.Line2D at 0x27ca110e588>]"
      ]
     },
     "execution_count": 22,
     "metadata": {},
     "output_type": "execute_result"
    },
    {
     "data": {
      "image/png": "[encoded data removed]",
      "text/plain": [
       "<Figure size 432x288 with 1 Axes>"
      ]
     },
     "metadata": {
      "needs_background": "light"
     },
     "output_type": "display_data"
    }
   ],
   "source": [
    "# elbow-curve\n",
    "ssd = [] # Sum of squared distances\n",
    "range_n_clusters = [2, 3, 4, 5, 6, 7, 8]\n",
    "for num_clusters in range_n_clusters:\n",
    "    kmeans = KMeans(n_clusters=num_clusters, max_iter=1000)\n",
    "    kmeans.fit(X_pca_final)\n",
    "    \n",
    "    ssd.append(kmeans.inertia_) \n",
    "plt.plot(ssd)"
   ]
  },
  {
   "cell_type": "code",
   "execution_count": 23,
   "metadata": {},
   "outputs": [
    {
     "name": "stdout",
     "output_type": "stream",
     "text": [
      "For n_clusters=2, the silhouette score is 0.12917262509301794\n",
      "For n_clusters=3, the silhouette score is 0.09427658023034062\n",
      "For n_clusters=4, the silhouette score is 0.09220759489990747\n",
      "For n_clusters=5, the silhouette score is 0.05990658808661583\n",
      "For n_clusters=6, the silhouette score is 0.10355744486289592\n",
      "For n_clusters=7, the silhouette score is 0.10577255669183344\n",
      "For n_clusters=8, the silhouette score is 0.10667271499166904\n"
     ]
    }
   ],
   "source": [
    "# Silhouette score\n",
    "\n",
    "range_n_clusters = [2, 3, 4, 5, 6, 7, 8]\n",
    "\n",
    "for num_clusters in range_n_clusters:\n",
    "    \n",
    "    # intialise kmeans\n",
    "    kmeans = KMeans(n_clusters=num_clusters, max_iter=1000)\n",
    "    kmeans.fit(X_pca_final)\n",
    "    \n",
    "    cluster_labels = kmeans.labels_\n",
    "    \n",
    "    # silhouette score\n",
    "    silhouette_avg = silhouette_score(X_pca_final, cluster_labels)\n",
    "    print(\"For n_clusters={0}, the silhouette score is {1}\".format(num_clusters, silhouette_avg))"
   ]
  },
  {
   "cell_type": "code",
   "execution_count": 24,
   "metadata": {},
   "outputs": [],
   "source": [
    "kmeans = KMeans(n_clusters=3, max_iter=1000, random_state=42)\n",
    "groups = kmeans.fit(X_pca_final)"
   ]
  },
  {
   "cell_type": "code",
   "execution_count": 25,
   "metadata": {},
   "outputs": [
    {
     "data": {
      "text/html": [
       "<div>\n",
       "<style scoped>\n",
       "    .dataframe tbody tr th:only-of-type {\n",
       "        vertical-align: middle;\n",
       "    }\n",
       "\n",
       "    .dataframe tbody tr th {\n",
       "        vertical-align: top;\n",
       "    }\n",
       "\n",
       "    .dataframe thead th {\n",
       "        text-align: right;\n",
       "    }\n",
       "</style>\n",
       "<table border=\"1\" class=\"dataframe\">\n",
       "  <thead>\n",
       "    <tr style=\"text-align: right;\">\n",
       "      <th></th>\n",
       "      <th>loan_amnt</th>\n",
       "      <th>funded_amnt</th>\n",
       "      <th>term</th>\n",
       "      <th>int_rate</th>\n",
       "      <th>installment</th>\n",
       "      <th>grade</th>\n",
       "      <th>sub_grade</th>\n",
       "      <th>emp_length</th>\n",
       "      <th>annual_inc</th>\n",
       "      <th>issue_d</th>\n",
       "      <th>...</th>\n",
       "      <th>purpose_other</th>\n",
       "      <th>purpose_renewable_energy</th>\n",
       "      <th>purpose_small_business</th>\n",
       "      <th>purpose_vacation</th>\n",
       "      <th>purpose_wedding</th>\n",
       "      <th>FICO_group_Exeptional</th>\n",
       "      <th>FICO_group_Fair</th>\n",
       "      <th>FICO_group_Good</th>\n",
       "      <th>FICO_group_Very Good</th>\n",
       "      <th>K-Means_Cluster_ID</th>\n",
       "    </tr>\n",
       "  </thead>\n",
       "  <tbody>\n",
       "    <tr>\n",
       "      <th>0</th>\n",
       "      <td>5000.0</td>\n",
       "      <td>5000.0</td>\n",
       "      <td>0</td>\n",
       "      <td>10.65</td>\n",
       "      <td>162.87</td>\n",
       "      <td>2</td>\n",
       "      <td>6</td>\n",
       "      <td>10</td>\n",
       "      <td>24000.0</td>\n",
       "      <td>2011</td>\n",
       "      <td>...</td>\n",
       "      <td>0</td>\n",
       "      <td>0</td>\n",
       "      <td>0</td>\n",
       "      <td>0</td>\n",
       "      <td>0</td>\n",
       "      <td>0</td>\n",
       "      <td>0</td>\n",
       "      <td>1</td>\n",
       "      <td>0</td>\n",
       "      <td>1</td>\n",
       "    </tr>\n",
       "    <tr>\n",
       "      <th>1</th>\n",
       "      <td>2500.0</td>\n",
       "      <td>2500.0</td>\n",
       "      <td>1</td>\n",
       "      <td>15.27</td>\n",
       "      <td>59.83</td>\n",
       "      <td>3</td>\n",
       "      <td>13</td>\n",
       "      <td>0</td>\n",
       "      <td>30000.0</td>\n",
       "      <td>2011</td>\n",
       "      <td>...</td>\n",
       "      <td>0</td>\n",
       "      <td>0</td>\n",
       "      <td>0</td>\n",
       "      <td>0</td>\n",
       "      <td>0</td>\n",
       "      <td>0</td>\n",
       "      <td>0</td>\n",
       "      <td>0</td>\n",
       "      <td>1</td>\n",
       "      <td>1</td>\n",
       "    </tr>\n",
       "    <tr>\n",
       "      <th>2</th>\n",
       "      <td>2400.0</td>\n",
       "      <td>2400.0</td>\n",
       "      <td>0</td>\n",
       "      <td>15.96</td>\n",
       "      <td>84.33</td>\n",
       "      <td>3</td>\n",
       "      <td>14</td>\n",
       "      <td>10</td>\n",
       "      <td>12252.0</td>\n",
       "      <td>2011</td>\n",
       "      <td>...</td>\n",
       "      <td>0</td>\n",
       "      <td>0</td>\n",
       "      <td>1</td>\n",
       "      <td>0</td>\n",
       "      <td>0</td>\n",
       "      <td>0</td>\n",
       "      <td>0</td>\n",
       "      <td>1</td>\n",
       "      <td>0</td>\n",
       "      <td>1</td>\n",
       "    </tr>\n",
       "    <tr>\n",
       "      <th>3</th>\n",
       "      <td>10000.0</td>\n",
       "      <td>10000.0</td>\n",
       "      <td>0</td>\n",
       "      <td>13.49</td>\n",
       "      <td>339.31</td>\n",
       "      <td>3</td>\n",
       "      <td>10</td>\n",
       "      <td>10</td>\n",
       "      <td>49200.0</td>\n",
       "      <td>2011</td>\n",
       "      <td>...</td>\n",
       "      <td>1</td>\n",
       "      <td>0</td>\n",
       "      <td>0</td>\n",
       "      <td>0</td>\n",
       "      <td>0</td>\n",
       "      <td>0</td>\n",
       "      <td>0</td>\n",
       "      <td>1</td>\n",
       "      <td>0</td>\n",
       "      <td>1</td>\n",
       "    </tr>\n",
       "    <tr>\n",
       "      <th>4</th>\n",
       "      <td>3000.0</td>\n",
       "      <td>3000.0</td>\n",
       "      <td>1</td>\n",
       "      <td>12.69</td>\n",
       "      <td>67.79</td>\n",
       "      <td>2</td>\n",
       "      <td>9</td>\n",
       "      <td>1</td>\n",
       "      <td>80000.0</td>\n",
       "      <td>2011</td>\n",
       "      <td>...</td>\n",
       "      <td>1</td>\n",
       "      <td>0</td>\n",
       "      <td>0</td>\n",
       "      <td>0</td>\n",
       "      <td>0</td>\n",
       "      <td>0</td>\n",
       "      <td>0</td>\n",
       "      <td>1</td>\n",
       "      <td>0</td>\n",
       "      <td>1</td>\n",
       "    </tr>\n",
       "  </tbody>\n",
       "</table>\n",
       "<p>5 rows × 65 columns</p>\n",
       "</div>"
      ],
      "text/plain": [
       "   loan_amnt  funded_amnt  term  int_rate  installment  grade  sub_grade  \\\n",
       "0     5000.0       5000.0     0     10.65       162.87      2          6   \n",
       "1     2500.0       2500.0     1     15.27        59.83      3         13   \n",
       "2     2400.0       2400.0     0     15.96        84.33      3         14   \n",
       "3    10000.0      10000.0     0     13.49       339.31      3         10   \n",
       "4     3000.0       3000.0     1     12.69        67.79      2          9   \n",
       "\n",
       "   emp_length  annual_inc  issue_d  ...  purpose_other  \\\n",
       "0          10     24000.0     2011  ...              0   \n",
       "1           0     30000.0     2011  ...              0   \n",
       "2          10     12252.0     2011  ...              0   \n",
       "3          10     49200.0     2011  ...              1   \n",
       "4           1     80000.0     2011  ...              1   \n",
       "\n",
       "   purpose_renewable_energy  purpose_small_business  purpose_vacation  \\\n",
       "0                         0                       0                 0   \n",
       "1                         0                       0                 0   \n",
       "2                         0                       1                 0   \n",
       "3                         0                       0                 0   \n",
       "4                         0                       0                 0   \n",
       "\n",
       "   purpose_wedding  FICO_group_Exeptional  FICO_group_Fair  FICO_group_Good  \\\n",
       "0                0                      0                0                1   \n",
       "1                0                      0                0                0   \n",
       "2                0                      0                0                1   \n",
       "3                0                      0                0                1   \n",
       "4                0                      0                0                1   \n",
       "\n",
       "   FICO_group_Very Good  K-Means_Cluster_ID  \n",
       "0                     0                   1  \n",
       "1                     1                   1  \n",
       "2                     0                   1  \n",
       "3                     0                   1  \n",
       "4                     0                   1  \n",
       "\n",
       "[5 rows x 65 columns]"
      ]
     },
     "execution_count": 25,
     "metadata": {},
     "output_type": "execute_result"
    }
   ],
   "source": [
    "dummies_loan_status['K-Means_Cluster_ID'] = kmeans.labels_\n",
    "dummies_loan_status.head()"
   ]
  },
  {
   "cell_type": "code",
   "execution_count": 26,
   "metadata": {},
   "outputs": [
    {
     "data": {
      "text/plain": [
       "'1    52.331022\\n0    24.676149\\n2    22.992829'"
      ]
     },
     "execution_count": 26,
     "metadata": {},
     "output_type": "execute_result"
    }
   ],
   "source": [
    "# checking the size of the groups\n",
    "(dummies_loan_status['K-Means_Cluster_ID'].value_counts(normalize = True, sort = True) * 100).to_string()"
   ]
  },
  {
   "cell_type": "code",
   "execution_count": 27,
   "metadata": {},
   "outputs": [
    {
     "data": {
      "text/html": [
       "<div>\n",
       "<style scoped>\n",
       "    .dataframe tbody tr th:only-of-type {\n",
       "        vertical-align: middle;\n",
       "    }\n",
       "\n",
       "    .dataframe tbody tr th {\n",
       "        vertical-align: top;\n",
       "    }\n",
       "\n",
       "    .dataframe thead th {\n",
       "        text-align: right;\n",
       "    }\n",
       "</style>\n",
       "<table border=\"1\" class=\"dataframe\">\n",
       "  <thead>\n",
       "    <tr style=\"text-align: right;\">\n",
       "      <th></th>\n",
       "      <th>loan_amnt</th>\n",
       "      <th>funded_amnt</th>\n",
       "      <th>term</th>\n",
       "      <th>int_rate</th>\n",
       "      <th>installment</th>\n",
       "      <th>grade</th>\n",
       "      <th>sub_grade</th>\n",
       "      <th>emp_length</th>\n",
       "      <th>annual_inc</th>\n",
       "      <th>issue_d</th>\n",
       "      <th>...</th>\n",
       "      <th>purpose_other</th>\n",
       "      <th>purpose_renewable_energy</th>\n",
       "      <th>purpose_small_business</th>\n",
       "      <th>purpose_vacation</th>\n",
       "      <th>purpose_wedding</th>\n",
       "      <th>FICO_group_Exeptional</th>\n",
       "      <th>FICO_group_Fair</th>\n",
       "      <th>FICO_group_Good</th>\n",
       "      <th>FICO_group_Very Good</th>\n",
       "      <th>K-Means_Cluster_ID</th>\n",
       "    </tr>\n",
       "  </thead>\n",
       "  <tbody>\n",
       "    <tr>\n",
       "      <th>mean</th>\n",
       "      <td>11089.722581</td>\n",
       "      <td>10821.585753</td>\n",
       "      <td>0.258634</td>\n",
       "      <td>12.165016</td>\n",
       "      <td>322.623063</td>\n",
       "      <td>2.670859</td>\n",
       "      <td>10.405125</td>\n",
       "      <td>4.794381</td>\n",
       "      <td>69130.054805</td>\n",
       "      <td>2010.231456</td>\n",
       "      <td>...</td>\n",
       "      <td>0.104032</td>\n",
       "      <td>0.002492</td>\n",
       "      <td>0.046832</td>\n",
       "      <td>0.009404</td>\n",
       "      <td>0.023604</td>\n",
       "      <td>0.01467</td>\n",
       "      <td>0.091548</td>\n",
       "      <td>0.654661</td>\n",
       "      <td>0.239121</td>\n",
       "      <td>0.983167</td>\n",
       "    </tr>\n",
       "  </tbody>\n",
       "</table>\n",
       "<p>1 rows × 65 columns</p>\n",
       "</div>"
      ],
      "text/plain": [
       "         loan_amnt   funded_amnt      term   int_rate  installment     grade  \\\n",
       "mean  11089.722581  10821.585753  0.258634  12.165016   322.623063  2.670859   \n",
       "\n",
       "      sub_grade  emp_length    annual_inc      issue_d  ...  purpose_other  \\\n",
       "mean  10.405125    4.794381  69130.054805  2010.231456  ...       0.104032   \n",
       "\n",
       "      purpose_renewable_energy  purpose_small_business  purpose_vacation  \\\n",
       "mean                  0.002492                0.046832          0.009404   \n",
       "\n",
       "      purpose_wedding  FICO_group_Exeptional  FICO_group_Fair  \\\n",
       "mean         0.023604                0.01467         0.091548   \n",
       "\n",
       "      FICO_group_Good  FICO_group_Very Good  K-Means_Cluster_ID  \n",
       "mean         0.654661              0.239121            0.983167  \n",
       "\n",
       "[1 rows x 65 columns]"
      ]
     },
     "execution_count": 27,
     "metadata": {},
     "output_type": "execute_result"
    }
   ],
   "source": [
    "# checking the means\n",
    "dummies_loan_status.agg(['mean'])"
   ]
  },
  {
   "cell_type": "code",
   "execution_count": 28,
   "metadata": {
    "scrolled": true
   },
   "outputs": [
    {
     "data": {
      "text/html": [
       "<div>\n",
       "<style scoped>\n",
       "    .dataframe tbody tr th:only-of-type {\n",
       "        vertical-align: middle;\n",
       "    }\n",
       "\n",
       "    .dataframe tbody tr th {\n",
       "        vertical-align: top;\n",
       "    }\n",
       "\n",
       "    .dataframe thead tr th {\n",
       "        text-align: left;\n",
       "    }\n",
       "\n",
       "    .dataframe thead tr:last-of-type th {\n",
       "        text-align: right;\n",
       "    }\n",
       "</style>\n",
       "<table border=\"1\" class=\"dataframe\">\n",
       "  <thead>\n",
       "    <tr>\n",
       "      <th></th>\n",
       "      <th>loan_amnt</th>\n",
       "      <th>funded_amnt</th>\n",
       "      <th>term</th>\n",
       "      <th>int_rate</th>\n",
       "      <th>installment</th>\n",
       "      <th>grade</th>\n",
       "      <th>sub_grade</th>\n",
       "      <th>emp_length</th>\n",
       "      <th>annual_inc</th>\n",
       "      <th>issue_d</th>\n",
       "      <th>...</th>\n",
       "      <th>purpose_moving</th>\n",
       "      <th>purpose_other</th>\n",
       "      <th>purpose_renewable_energy</th>\n",
       "      <th>purpose_small_business</th>\n",
       "      <th>purpose_vacation</th>\n",
       "      <th>purpose_wedding</th>\n",
       "      <th>FICO_group_Exeptional</th>\n",
       "      <th>FICO_group_Fair</th>\n",
       "      <th>FICO_group_Good</th>\n",
       "      <th>FICO_group_Very Good</th>\n",
       "    </tr>\n",
       "    <tr>\n",
       "      <th></th>\n",
       "      <th>mean</th>\n",
       "      <th>mean</th>\n",
       "      <th>mean</th>\n",
       "      <th>mean</th>\n",
       "      <th>mean</th>\n",
       "      <th>mean</th>\n",
       "      <th>mean</th>\n",
       "      <th>mean</th>\n",
       "      <th>mean</th>\n",
       "      <th>mean</th>\n",
       "      <th>...</th>\n",
       "      <th>mean</th>\n",
       "      <th>mean</th>\n",
       "      <th>mean</th>\n",
       "      <th>mean</th>\n",
       "      <th>mean</th>\n",
       "      <th>mean</th>\n",
       "      <th>mean</th>\n",
       "      <th>mean</th>\n",
       "      <th>mean</th>\n",
       "      <th>mean</th>\n",
       "    </tr>\n",
       "    <tr>\n",
       "      <th>K-Means_Cluster_ID</th>\n",
       "      <th></th>\n",
       "      <th></th>\n",
       "      <th></th>\n",
       "      <th></th>\n",
       "      <th></th>\n",
       "      <th></th>\n",
       "      <th></th>\n",
       "      <th></th>\n",
       "      <th></th>\n",
       "      <th></th>\n",
       "      <th></th>\n",
       "      <th></th>\n",
       "      <th></th>\n",
       "      <th></th>\n",
       "      <th></th>\n",
       "      <th></th>\n",
       "      <th></th>\n",
       "      <th></th>\n",
       "      <th></th>\n",
       "      <th></th>\n",
       "      <th></th>\n",
       "    </tr>\n",
       "  </thead>\n",
       "  <tbody>\n",
       "    <tr>\n",
       "      <th>0</th>\n",
       "      <td>20855.887957</td>\n",
       "      <td>20281.838319</td>\n",
       "      <td>0.541730</td>\n",
       "      <td>14.839970</td>\n",
       "      <td>581.696358</td>\n",
       "      <td>3.610137</td>\n",
       "      <td>15.107470</td>\n",
       "      <td>5.790492</td>\n",
       "      <td>97402.946049</td>\n",
       "      <td>2010.457603</td>\n",
       "      <td>...</td>\n",
       "      <td>0.003620</td>\n",
       "      <td>0.046684</td>\n",
       "      <td>0.001524</td>\n",
       "      <td>0.067073</td>\n",
       "      <td>0.001143</td>\n",
       "      <td>0.016006</td>\n",
       "      <td>0.006383</td>\n",
       "      <td>0.078316</td>\n",
       "      <td>0.750191</td>\n",
       "      <td>0.165111</td>\n",
       "    </tr>\n",
       "    <tr>\n",
       "      <th>1</th>\n",
       "      <td>7162.552226</td>\n",
       "      <td>7060.760816</td>\n",
       "      <td>0.166809</td>\n",
       "      <td>12.686357</td>\n",
       "      <td>222.940225</td>\n",
       "      <td>2.838986</td>\n",
       "      <td>11.268970</td>\n",
       "      <td>4.181500</td>\n",
       "      <td>56072.240953</td>\n",
       "      <td>2010.109349</td>\n",
       "      <td>...</td>\n",
       "      <td>0.019633</td>\n",
       "      <td>0.127454</td>\n",
       "      <td>0.002651</td>\n",
       "      <td>0.037333</td>\n",
       "      <td>0.011726</td>\n",
       "      <td>0.026821</td>\n",
       "      <td>0.000000</td>\n",
       "      <td>0.138012</td>\n",
       "      <td>0.860012</td>\n",
       "      <td>0.001977</td>\n",
       "    </tr>\n",
       "    <tr>\n",
       "      <th>2</th>\n",
       "      <td>9546.697342</td>\n",
       "      <td>9228.271984</td>\n",
       "      <td>0.163804</td>\n",
       "      <td>8.107670</td>\n",
       "      <td>271.458133</td>\n",
       "      <td>1.280164</td>\n",
       "      <td>3.392434</td>\n",
       "      <td>5.120245</td>\n",
       "      <td>68506.497751</td>\n",
       "      <td>2010.266667</td>\n",
       "      <td>...</td>\n",
       "      <td>0.015746</td>\n",
       "      <td>0.112270</td>\n",
       "      <td>0.003170</td>\n",
       "      <td>0.046728</td>\n",
       "      <td>0.012986</td>\n",
       "      <td>0.024438</td>\n",
       "      <td>0.056953</td>\n",
       "      <td>0.000000</td>\n",
       "      <td>0.084765</td>\n",
       "      <td>0.858282</td>\n",
       "    </tr>\n",
       "  </tbody>\n",
       "</table>\n",
       "<p>3 rows × 64 columns</p>\n",
       "</div>"
      ],
      "text/plain": [
       "                       loan_amnt   funded_amnt      term   int_rate  \\\n",
       "                            mean          mean      mean       mean   \n",
       "K-Means_Cluster_ID                                                    \n",
       "0                   20855.887957  20281.838319  0.541730  14.839970   \n",
       "1                    7162.552226   7060.760816  0.166809  12.686357   \n",
       "2                    9546.697342   9228.271984  0.163804   8.107670   \n",
       "\n",
       "                   installment     grade  sub_grade emp_length    annual_inc  \\\n",
       "                          mean      mean       mean       mean          mean   \n",
       "K-Means_Cluster_ID                                                             \n",
       "0                   581.696358  3.610137  15.107470   5.790492  97402.946049   \n",
       "1                   222.940225  2.838986  11.268970   4.181500  56072.240953   \n",
       "2                   271.458133  1.280164   3.392434   5.120245  68506.497751   \n",
       "\n",
       "                        issue_d  ... purpose_moving purpose_other  \\\n",
       "                           mean  ...           mean          mean   \n",
       "K-Means_Cluster_ID               ...                                \n",
       "0                   2010.457603  ...       0.003620      0.046684   \n",
       "1                   2010.109349  ...       0.019633      0.127454   \n",
       "2                   2010.266667  ...       0.015746      0.112270   \n",
       "\n",
       "                   purpose_renewable_energy purpose_small_business  \\\n",
       "                                       mean                   mean   \n",
       "K-Means_Cluster_ID                                                   \n",
       "0                                  0.001524               0.067073   \n",
       "1                                  0.002651               0.037333   \n",
       "2                                  0.003170               0.046728   \n",
       "\n",
       "                   purpose_vacation purpose_wedding FICO_group_Exeptional  \\\n",
       "                               mean            mean                  mean   \n",
       "K-Means_Cluster_ID                                                          \n",
       "0                          0.001143        0.016006              0.006383   \n",
       "1                          0.011726        0.026821              0.000000   \n",
       "2                          0.012986        0.024438              0.056953   \n",
       "\n",
       "                   FICO_group_Fair FICO_group_Good FICO_group_Very Good  \n",
       "                              mean            mean                 mean  \n",
       "K-Means_Cluster_ID                                                       \n",
       "0                         0.078316        0.750191             0.165111  \n",
       "1                         0.138012        0.860012             0.001977  \n",
       "2                         0.000000        0.084765             0.858282  \n",
       "\n",
       "[3 rows x 64 columns]"
      ]
     },
     "execution_count": 28,
     "metadata": {},
     "output_type": "execute_result"
    }
   ],
   "source": [
    "dummies_loan_status.groupby('K-Means_Cluster_ID').agg(['mean'])"
   ]
  },
  {
   "cell_type": "code",
   "execution_count": 29,
   "metadata": {},
   "outputs": [
    {
     "data": {
      "text/plain": [
       "<matplotlib.axes._subplots.AxesSubplot at 0x27ca11c2788>"
      ]
     },
     "execution_count": 29,
     "metadata": {},
     "output_type": "execute_result"
    },
    {
     "data": {
      "image/png": "[encoded data removed]",
      "text/plain": [
       "<Figure size 1440x720 with 1 Axes>"
      ]
     },
     "metadata": {},
     "output_type": "display_data"
    }
   ],
   "source": [
    "sns.set(font_scale= 1)\n",
    "plt.figure(figsize=(20,10))\n",
    "sns.boxplot(x='K-Means_Cluster_ID', y='funded_amnt', data=dummies_loan_status)"
   ]
  },
  {
   "cell_type": "markdown",
   "metadata": {},
   "source": [
    "We can observe 3 different custers in funded amount feature"
   ]
  },
  {
   "cell_type": "code",
   "execution_count": 30,
   "metadata": {
    "scrolled": false
   },
   "outputs": [
    {
     "data": {
      "text/plain": [
       "<matplotlib.axes._subplots.AxesSubplot at 0x27ca1208088>"
      ]
     },
     "execution_count": 30,
     "metadata": {},
     "output_type": "execute_result"
    },
    {
     "data": {
      "image/png": "[encoded data removed]",
      "text/plain": [
       "<Figure size 1440x14400 with 1 Axes>"
      ]
     },
     "metadata": {},
     "output_type": "display_data"
    }
   ],
   "source": [
    "sns.set(font_scale= 1)\n",
    "plt.figure(figsize=(20,200))\n",
    "sns.boxplot(x='K-Means_Cluster_ID', y='annual_inc', data=dummies_loan_status)"
   ]
  },
  {
   "cell_type": "markdown",
   "metadata": {},
   "source": [
    "Concerning annual income feature the differences are not so visible, but we have enormous spread of data here."
   ]
  },
  {
   "cell_type": "code",
   "execution_count": 31,
   "metadata": {},
   "outputs": [
    {
     "data": {
      "text/plain": [
       "<matplotlib.axes._subplots.AxesSubplot at 0x27ca12901c8>"
      ]
     },
     "execution_count": 31,
     "metadata": {},
     "output_type": "execute_result"
    },
    {
     "data": {
      "image/png": "[encoded data removed]",
      "text/plain": [
       "<Figure size 1440x720 with 1 Axes>"
      ]
     },
     "metadata": {},
     "output_type": "display_data"
    }
   ],
   "source": [
    "sns.set(font_scale= 1)\n",
    "plt.figure(figsize=(20,10))\n",
    "sns.boxplot(x='K-Means_Cluster_ID', y='emp_length', data=dummies_loan_status)"
   ]
  },
  {
   "cell_type": "markdown",
   "metadata": {},
   "source": [
    "Also three different cluster related to employment length"
   ]
  },
  {
   "cell_type": "code",
   "execution_count": 32,
   "metadata": {},
   "outputs": [
    {
     "data": {
      "text/plain": [
       "<matplotlib.axes._subplots.AxesSubplot at 0x27ca127c4c8>"
      ]
     },
     "execution_count": 32,
     "metadata": {},
     "output_type": "execute_result"
    },
    {
     "data": {
      "image/png": "[encoded data removed]",
      "text/plain": [
       "<Figure size 1440x720 with 1 Axes>"
      ]
     },
     "metadata": {},
     "output_type": "display_data"
    }
   ],
   "source": [
    "sns.set(font_scale= 1)\n",
    "plt.figure(figsize=(20,10))\n",
    "sns.boxplot(x='K-Means_Cluster_ID', y='dti', data=dummies_loan_status)"
   ]
  },
  {
   "cell_type": "code",
   "execution_count": 33,
   "metadata": {},
   "outputs": [
    {
     "data": {
      "text/plain": [
       "<matplotlib.axes._subplots.AxesSubplot at 0x27c98d2a908>"
      ]
     },
     "execution_count": 33,
     "metadata": {},
     "output_type": "execute_result"
    },
    {
     "data": {
      "image/png": "[encoded data removed]",
      "text/plain": [
       "<Figure size 1440x720 with 1 Axes>"
      ]
     },
     "metadata": {},
     "output_type": "display_data"
    }
   ],
   "source": [
    "sns.set(font_scale= 1)\n",
    "plt.figure(figsize=(20,10))\n",
    "sns.boxplot(x='K-Means_Cluster_ID', y='FICO_mean', data=dummies_loan_status)"
   ]
  },
  {
   "cell_type": "markdown",
   "metadata": {},
   "source": [
    "There we have very clear division between Clusters"
   ]
  },
  {
   "cell_type": "code",
   "execution_count": 34,
   "metadata": {
    "scrolled": false
   },
   "outputs": [
    {
     "data": {
      "text/plain": [
       "<matplotlib.axes._subplots.AxesSubplot at 0x27ca169d288>"
      ]
     },
     "execution_count": 34,
     "metadata": {},
     "output_type": "execute_result"
    },
    {
     "data": {
      "image/png": "[encoded data removed]",
      "text/plain": [
       "<Figure size 1440x720 with 1 Axes>"
      ]
     },
     "metadata": {},
     "output_type": "display_data"
    }
   ],
   "source": [
    "sns.set(font_scale= 1)\n",
    "plt.figure(figsize=(20,10))\n",
    "sns.boxplot(x='K-Means_Cluster_ID', y='grade', data=dummies_loan_status)"
   ]
  }
 ],
 "metadata": {
  "kernelspec": {
   "display_name": "Python 3",
   "language": "python",
   "name": "python3"
  },
  "language_info": {
   "codemirror_mode": {
    "name": "ipython",
    "version": 3
   },
   "file_extension": ".py",
   "mimetype": "text/x-python",
   "name": "python",
   "nbconvert_exporter": "python",
   "pygments_lexer": "ipython3",
   "version": "3.7.6"
  }
 },
 "nbformat": 4,
 "nbformat_minor": 4
}
